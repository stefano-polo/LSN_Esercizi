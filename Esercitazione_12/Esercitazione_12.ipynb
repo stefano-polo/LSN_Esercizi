{
 "cells": [
  {
   "cell_type": "code",
   "execution_count": 21,
   "metadata": {},
   "outputs": [],
   "source": [
    "import tensorflow as tf\n",
    "from tensorflow import keras\n",
    "import os\n",
    "import numpy as np\n",
    "import matplotlib.pyplot as plt\n",
    "from keras.datasets import mnist\n",
    "from keras.models import Sequential\n",
    "from keras.layers import Dense, Dropout\n",
    "from keras.optimizers import SGD, Adam, RMSprop, Adagrad, Adadelta, Adam, Adamax, Nadam\n",
    "from keras.layers import Flatten, Conv2D, MaxPooling2D\n",
    "from PIL import Image\n",
    "import os\n",
    "seed=0\n",
    "np.random.seed(seed) # fix random seed\n",
    "tf.set_random_seed(seed)"
   ]
  },
  {
   "cell_type": "markdown",
   "metadata": {},
   "source": [
    "#### Esercizi svolti da Stefano Polo\n",
    "\n",
    "#### Matricola: 940175"
   ]
  },
  {
   "cell_type": "markdown",
   "metadata": {},
   "source": [
    "#### Struttura della cartella\n",
    "Il seguente *notebook* legge delle immagini dalla cartella <span style=\"color:red\"> Risultati</span>."
   ]
  },
  {
   "cell_type": "markdown",
   "metadata": {},
   "source": [
    "### Exercise 12.1\n",
    "\n",
    "Il seguente esercizio prevede che vengano verificate le *performance* al variare degli ottimizzatori (eccetto il SGR) della DNN (*Deep Neural Network*) presentata nella cella sottostante. I dati di input con cui lavora la rete consistono in immagini da $28\\times28$ pixel e il numero di classi di output sono $10$.  Il numero di epoche di apprendimento della DNN è fissato a 5."
   ]
  },
  {
   "cell_type": "code",
   "execution_count": 22,
   "metadata": {},
   "outputs": [],
   "source": [
    "#struttura della rete di lavoro\n",
    "def create_DNN():\n",
    "    model = Sequential()\n",
    "    model.add(Dense(400,input_shape=(img_rows*img_cols,), activation='relu'))\n",
    "    model.add(Dense(100, activation='relu'))\n",
    "    model.add(Dropout(0.5))  #spegnimento del neurone\n",
    "    model.add(Dense(num_classes, activation='softmax'))\n",
    "\n",
    "    return model\n"
   ]
  },
  {
   "cell_type": "markdown",
   "metadata": {},
   "source": [
    "Ho eseguito il test delle *performance* della rete adottando tutti gli ottimizzatori disponibili in Keras: Adam, RMSprop, Adagrad, Adadelta, Adamax e Nadam. Riporto nelle righe sottostanti i risultati dei test di *loss* e *accuracy* per ciascun otimizzatore.\n",
    "\n",
    "<img src=\"Risultati/Adam.png\" width=\"800\">\n",
    "<img src=\"Risultati/RMSprop.png\" width=\"800\">\n",
    "<img src=\"Risultati/Adagrad.png\" width=\"800\">\n",
    "<img src=\"Risultati/Adadelta.png\" width=\"800\">\n",
    "<img src=\"Risultati/Adamax.png\" width=\"800\">\n",
    "<img src=\"Risultati/Nadam.png\" width=\"800\">\n",
    "\n",
    "Osservando questi dati di *performance*, si può affermare che:\n",
    "\n",
    "- Adamax sia l'ottimizzatore migliore con una *loss* di 0.06 e *accuracy* di 0.98;\n",
    "- RMSprop sia l'ottimizzatore peggiore con una *loss* di 0.15;\n",
    "- Nadam e Adam presentano un *overfit* dei dati rispettivamente a 2.7 e 3 epoca."
   ]
  },
  {
   "cell_type": "markdown",
   "metadata": {},
   "source": [
    "### Exercise 12.1\n",
    "\n",
    "Il seguente esercizio richiede che venga implementata una CNN (*Convolutional Neural Network*) per riconoscere e distinguere immagini contenenti 10 cifre (da 0 a 9) scritte a mano."
   ]
  },
  {
   "cell_type": "markdown",
   "metadata": {},
   "source": [
    "Nella cella sottostante preparo i dati di *training* e di test con i quali lavorerà la CNN che andrò a implementare."
   ]
  },
  {
   "cell_type": "code",
   "execution_count": 102,
   "metadata": {},
   "outputs": [
    {
     "name": "stdout",
     "output_type": "stream",
     "text": [
      "X_train shape: (60000, 28, 28, 1)\n",
      "Y_train shape: (60000, 10)\n",
      "\n",
      "60000 train samples\n",
      "10000 test samples\n"
     ]
    }
   ],
   "source": [
    "# input image dimensions\n",
    "img_rows, img_cols = 28, 28 # number of pixels \n",
    "# output\n",
    "num_classes = 10 # 10 digits\n",
    "\n",
    "# the data, split between train and test sets\n",
    "(X_train, Y_train), (X_test, Y_test) = mnist.load_data()\n",
    "\n",
    "# reshape data, it could depend on Keras backend\n",
    "X_train = X_train.reshape(X_train.shape[0], img_rows*img_cols)\n",
    "X_test = X_test.reshape(X_test.shape[0], img_rows*img_cols)\n",
    "\n",
    "# cast floats to single precision\n",
    "X_train = X_train.astype('float32')\n",
    "X_test = X_test.astype('float32')\n",
    "\n",
    "# rescale data in interval [0,1]\n",
    "X_train /= 255\n",
    "X_test /= 255\n",
    "\n",
    "# convert class vectors to binary class matrices, e.g. for use with categorical_crossentropy\n",
    "Y_train = keras.utils.to_categorical(Y_train, num_classes)\n",
    "Y_test = keras.utils.to_categorical(Y_test, num_classes)\n",
    "\n",
    "# reshape data, depending on Keras backend\n",
    "if keras.backend.image_data_format() == 'channels_first':\n",
    "    X_train = X_train.reshape(X_train.shape[0], 1, img_rows, img_cols)\n",
    "    X_test = X_test.reshape(X_test.shape[0], 1, img_rows, img_cols)\n",
    "    input_shape = (1, img_rows, img_cols)\n",
    "else:\n",
    "    X_train = X_train.reshape(X_train.shape[0], img_rows, img_cols, 1)\n",
    "    X_test = X_test.reshape(X_test.shape[0], img_rows, img_cols, 1)\n",
    "    input_shape = (img_rows, img_cols, 1)\n",
    "    \n",
    "print('X_train shape:', X_train.shape)\n",
    "print('Y_train shape:', Y_train.shape)\n",
    "print()\n",
    "print(X_train.shape[0], 'train samples')\n",
    "print(X_test.shape[0], 'test samples')"
   ]
  },
  {
   "cell_type": "markdown",
   "metadata": {},
   "source": [
    "Nella cella sottostante implemento la CNN che andrò ad operare per risolvere questo problema di classificazione. La seguente CNN si struttura in:\n",
    "\n",
    "- un *layer* di input (la dimensione dell'immagine di input è $28\\times28\\times1$);\n",
    "- un *layer* di convoluzione 2D composto da 10 filtri da $5\\times5$ (l'output diventa $24\\times24\\times10$);\n",
    "- un *layer* di *pooling* con filtri $2\\times2$ (adoperano il *max pool*) con 2 *strides* (l'output diventa $12\\times12\\times10$);\n",
    "- un *layer* di convoluzione  2D composto da 20 filtri da $5\\times5$ (l'output diventa $8\\times8\\times30$);\n",
    "- un *layer* di *pooling* con filtri $2\\times2$ (adoperano il *max pool*) con 2 *strides* (l'output diventa $4\\times4\\times30$);\n",
    "- un *flatten*;\n",
    "- un *layer* denso da 480 neuroni con tanh come funzione di attivazione;\n",
    "- un *dropout* da 0.6;\n",
    "- un *layer* denso di output da 10 neuroni con softmax come funzione di attivazione.\n",
    "\n",
    "Ho impostato 5 epoche di apprendimento per la CNN appena descritta con SGD come ottimizzatore e la *categorical crossentropy* come *loss function*."
   ]
  },
  {
   "cell_type": "code",
   "execution_count": 103,
   "metadata": {},
   "outputs": [],
   "source": [
    "def create_CNN():\n",
    "    # instantiate model\n",
    "    model = Sequential() #parto da 28x28*1\n",
    "    model.add(Conv2D(10, kernel_size=(5, 5),activation='relu',input_shape=input_shape))  #arrivo 24*24*10 \n",
    "    # il max pooling prende i valori massimi sgranando immagine\n",
    "    model.add(MaxPooling2D(pool_size=(2,2),strides = 2, padding = 'valid', data_format = None)) #arrivo a 12*12*10  strides = 2 per non sovrapporre componenti di immagini\n",
    "    model.add(Conv2D(30, kernel_size=(5, 5),activation='relu',input_shape=input_shape)) #arrivo a 8*8*30\n",
    "    model.add(MaxPooling2D(pool_size=(2,2),strides = 2, padding = 'valid', data_format = None)) #arrivo a 4*4*30\n",
    "    model.add(Flatten()) #stira le immagini\n",
    "    model.add(Dense(480, activation='tanh')) \n",
    "    model.add(Dropout(0.6))\n",
    "    model.add(Dense(10, activation='softmax')) #numeri che vanno da 0 a 9\n",
    "    \n",
    "    \n",
    "    # compile the model\n",
    "    model.compile(loss=keras.losses.categorical_crossentropy,\n",
    "                  optimizer='SGD',\n",
    "                  metrics=['accuracy'])\n",
    "    return model"
   ]
  },
  {
   "cell_type": "code",
   "execution_count": 104,
   "metadata": {},
   "outputs": [
    {
     "name": "stdout",
     "output_type": "stream",
     "text": [
      "Train on 60000 samples, validate on 10000 samples\n",
      "Epoch 1/5\n",
      "60000/60000 [==============================] - 40s 663us/step - loss: 0.4766 - acc: 0.8508 - val_loss: 0.1298 - val_acc: 0.9614\n",
      "Epoch 2/5\n",
      "60000/60000 [==============================] - 42s 705us/step - loss: 0.1621 - acc: 0.9494 - val_loss: 0.0901 - val_acc: 0.9720\n",
      "Epoch 3/5\n",
      "60000/60000 [==============================] - 39s 642us/step - loss: 0.1239 - acc: 0.9611 - val_loss: 0.0778 - val_acc: 0.9752\n",
      "Epoch 4/5\n",
      "60000/60000 [==============================] - 41s 687us/step - loss: 0.1039 - acc: 0.9670 - val_loss: 0.0570 - val_acc: 0.9813\n",
      "Epoch 5/5\n",
      "60000/60000 [==============================] - 41s 690us/step - loss: 0.0916 - acc: 0.9712 - val_loss: 0.0530 - val_acc: 0.9821\n",
      "10000/10000 [==============================] - 2s 223us/step\n",
      "\n",
      "Test loss: 0.05303472221554257\n",
      "Test accuracy: 0.9821\n"
     ]
    }
   ],
   "source": [
    "# training parameters\n",
    "batch_size = 32\n",
    "epochs = 5\n",
    "\n",
    "# create the deep conv net\n",
    "model_CNN=create_CNN()\n",
    "\n",
    "# train CNN\n",
    "history = model_CNN.fit(X_train, Y_train,\n",
    "          batch_size=batch_size,\n",
    "          epochs=epochs,\n",
    "          verbose=1,\n",
    "          validation_data=(X_test, Y_test))\n",
    "\n",
    "# evaliate model\n",
    "score = model_CNN.evaluate(X_test, Y_test, verbose=1)\n",
    "\n",
    "# print performance\n",
    "print()\n",
    "print('Test loss:', score[0])\n",
    "print('Test accuracy:', score[1])"
   ]
  },
  {
   "cell_type": "markdown",
   "metadata": {},
   "source": [
    "Nella tabella sottostante riporto i risultati dei test di *loss* e *accuracy* della CNN"
   ]
  },
  {
   "cell_type": "code",
   "execution_count": 105,
   "metadata": {},
   "outputs": [
    {
     "name": "stdout",
     "output_type": "stream",
     "text": [
      "10000/10000 [==============================] - 2s 238us/step\n",
      "\n",
      "Test loss: 0.05303472221554257\n",
      "Test accuracy: 0.9821\n"
     ]
    },
    {
     "data": {
      "image/png": "[encoded data removed]",
      "text/plain": [
       "<Figure size 1008x360 with 2 Axes>"
      ]
     },
     "metadata": {},
     "output_type": "display_data"
    }
   ],
   "source": [
    "# evaluate model\n",
    "score = model_CNN.evaluate(X_test, Y_test, verbose=1)\n",
    "\n",
    "# print performance\n",
    "print()\n",
    "print('Test loss:', score[0])\n",
    "print('Test accuracy:', score[1])\n",
    "\n",
    "# look into training history\n",
    "plt.figure(figsize=(14,5))\n",
    "plt.suptitle('CNN: Test loss =  %.2f, Test accuracy =  %.2f'%(score[0],score[1]),fontsize = 20)\n",
    "plt.subplot(1,2,1)\n",
    "# summarize history for accuracy\n",
    "plt.plot(history.history['acc'])\n",
    "plt.plot(history.history['val_acc'])\n",
    "plt.ylabel('model accuracy')\n",
    "plt.xlabel('epoch')\n",
    "plt.legend(['train', 'test'], loc='best')\n",
    "\n",
    "plt.subplot(1,2,2)\n",
    "# summarize history for loss\n",
    "plt.plot(history.history['loss'])\n",
    "plt.plot(history.history['val_loss'])\n",
    "plt.ylabel('model loss')\n",
    "plt.xlabel('epoch')\n",
    "plt.legend(['train', 'test'], loc='best')\n",
    "\n",
    "plt.show()"
   ]
  },
  {
   "cell_type": "markdown",
   "metadata": {},
   "source": [
    "La CNN implementata precedentemente è ora posta ai dati di test per verificarne l'apprendimento. Dalla cella sottostante si può osservare come la rete sia in grado di predirre le cifre scritte a mano che le vengono proposte."
   ]
  },
  {
   "cell_type": "code",
   "execution_count": 106,
   "metadata": {},
   "outputs": [
    {
     "data": {
      "image/png": "[encoded data removed]",
      "text/plain": [
       "<Figure size 1080x1080 with 10 Axes>"
      ]
     },
     "metadata": {},
     "output_type": "display_data"
    }
   ],
   "source": [
    "#X_test = X_test.reshape(X_test.shape[0], img_rows*img_cols)\n",
    "predictions = model_CNN.predict(X_test)\n",
    "\n",
    "X_test = X_test.reshape(X_test.shape[0], img_rows, img_cols,1)\n",
    "\n",
    "plt.figure(figsize=(15, 15)) \n",
    "for i in range(10):    \n",
    "    ax = plt.subplot(2, 10, i + 1)    \n",
    "    plt.imshow(X_test[i, :, :, 0], cmap='gray')    \n",
    "    plt.title(\"Digit: {}\\nPredicted:    {}\".format(np.argmax(Y_test[i]), np.argmax(predictions[i])))    \n",
    "    plt.axis('off') \n",
    "plt.show()"
   ]
  },
  {
   "cell_type": "markdown",
   "metadata": {},
   "source": [
    "### Exercise 12.3\n",
    "\n",
    "Come ulteriore test dell'apprendimento della CNN che ho implementato nell'esercizio precedente, voglio verificare se sia in grado di predirre cifre scritte da me a mano.\n",
    "Per non rendere eccessivamente lungo il *notebook* presento il codice per la previsione del numero 1 e di seguito delle immagini per i restanti numeri (il lettore può modificare il seguente codice per testare a mano le previsioni della rete con altre cifre contenute nella cartella <span style=\"color:red\">Risultati/Digit</span>)."
   ]
  },
  {
   "cell_type": "code",
   "execution_count": 161,
   "metadata": {},
   "outputs": [
    {
     "name": "stdout",
     "output_type": "stream",
     "text": [
      "Image size: 28x28\n"
     ]
    },
    {
     "data": {
      "image/png": "[encoded data removed]",
      "text/plain": [
       "<Figure size 360x360 with 1 Axes>"
      ]
     },
     "metadata": {},
     "output_type": "display_data"
    },
    {
     "name": "stdout",
     "output_type": "stream",
     "text": [
      "(28, 28)\n"
     ]
    }
   ],
   "source": [
    "digit_filename = \"Risultati/Digit/One.png\"\n",
    "\n",
    "digit_in = Image.open(digit_filename).convert('L')\n",
    "\n",
    "ydim, xdim = digit_in.size\n",
    "print(\"Image size: \"+str(xdim)+\"x\"+str(ydim))\n",
    "pix=digit_in.load();\n",
    "data = np.zeros((xdim, ydim))\n",
    "for j in range(ydim):\n",
    "    for i in range(xdim):\n",
    "        data[i,j]=pix[j,i]\n",
    "\n",
    "data /= 255\n",
    "\n",
    "plt.figure(figsize=(5,5))\n",
    "plt.imshow(data, cmap='gray')\n",
    "plt.show()\n",
    "\n",
    "print(data.shape)"
   ]
  },
  {
   "cell_type": "code",
   "execution_count": 162,
   "metadata": {},
   "outputs": [],
   "source": [
    "#faccio un reshape dei dati dell'immagine\n",
    "data = data.reshape(1,xdim*ydim)\n",
    "if keras.backend.image_data_format() == 'channels_first':\n",
    "    data = data.reshape(data.shape[0], 1, img_rows, img_cols)\n",
    "    input_shape = (1, img_rows, img_cols)\n",
    "else:\n",
    "    data = data.reshape(data.shape[0], img_rows, img_cols, 1)\n",
    "    input_shape = (img_rows, img_cols, 1)"
   ]
  },
  {
   "cell_type": "code",
   "execution_count": 163,
   "metadata": {},
   "outputs": [
    {
     "name": "stdout",
     "output_type": "stream",
     "text": [
      "(1, 28, 28, 1)\n",
      "(1, 28, 28, 1)\n"
     ]
    },
    {
     "data": {
      "image/png": "[encoded data removed]",
      "text/plain": [
       "<Figure size 360x360 with 1 Axes>"
      ]
     },
     "metadata": {},
     "output_type": "display_data"
    }
   ],
   "source": [
    "print(data.shape)\n",
    "#data = data.reshape(1,xdim*ydim)\n",
    "print(data.shape)\n",
    "pred_0 = model_CNN.predict(data)\n",
    "data = data.reshape(xdim,ydim)\n",
    "plt.figure(figsize=(5, 5))  \n",
    "plt.imshow(data, cmap='gray')    \n",
    "plt.title(\"Digit predicted:    {}\".format(np.argmax(pred_0)))\n",
    "plt.axis('off')\n",
    "plt.show()"
   ]
  },
  {
   "cell_type": "markdown",
   "metadata": {},
   "source": [
    "#### Risultati delle previsioni per le altre cifre\n",
    "\n",
    "<img src=\"Risultati/Zero_predicted.png\" width=\"300\"> \n",
    "<img src=\"Risultati/Two_predicted.png\" width=\"300\">\n",
    "<img src=\"Risultati/Three_predicted.png\" width=\"300\">\n",
    "<img src=\"Risultati/Four_predicted.png\" width=\"300\">\n",
    "<img src=\"Risultati/Five_predicted.png\" width=\"300\">\n",
    "<img src=\"Risultati/Six_predicted.png\" width=\"300\">\n",
    "<img src=\"Risultati/Seven_predicted.png\" width=\"300\">\n",
    "<img src=\"Risultati/Eight_predicted.png\" width=\"300\">\n",
    "<img src=\"Risultati/Nine_predicted.png\" width=\"300\">\n",
    "\n",
    "Come si può osservare la CNN creata è in grado di predire le cifre che ho scritto a mano. In più la rete è in grado di calssificare una cifra scritta in un angolo dell'immagine (segno di un buon apprendimento)\n",
    "<img src=\"Risultati/Two_corner_predicted.png\" width=\"300\">\n",
    "Tuttavia la CNN creata non è in grado di classificare correttamente una cifra ruotata nell'immagine\n",
    "<img src=\"Risultati/Three_rotation_predicted.png\" width=\"300\">"
   ]
  },
  {
   "cell_type": "code",
   "execution_count": null,
   "metadata": {},
   "outputs": [],
   "source": []
  }
 ],
 "metadata": {
  "kernelspec": {
   "display_name": "Python 3",
   "language": "python",
   "name": "python3"
  },
  "language_info": {
   "codemirror_mode": {
    "name": "ipython",
    "version": 3
   },
   "file_extension": ".py",
   "mimetype": "text/x-python",
   "name": "python",
   "nbconvert_exporter": "python",
   "pygments_lexer": "ipython3",
   "version": "3.6.5"
  }
 },
 "nbformat": 4,
 "nbformat_minor": 2
}
